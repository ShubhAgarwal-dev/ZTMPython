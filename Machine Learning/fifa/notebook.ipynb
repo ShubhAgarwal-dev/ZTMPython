{
 "cells": [
  {
   "cell_type": "code",
   "execution_count": null,
   "metadata": {},
   "outputs": [],
   "source": [
    "import pandas as pd\n",
    "import seaborn as sns\n",
    "from bokeh.plotting import figure, show\n",
    "from bokeh.models import HoverTool"
   ]
  },
  {
   "cell_type": "code",
   "execution_count": null,
   "metadata": {},
   "outputs": [],
   "source": [
    "data_frame = pd.read_csv('data.csv')\n",
    "data_frame.shape"
   ]
  },
  {
   "cell_type": "code",
   "execution_count": null,
   "metadata": {},
   "outputs": [],
   "source": [
    "data_frame.describe()"
   ]
  },
  {
   "cell_type": "code",
   "execution_count": null,
   "metadata": {},
   "outputs": [],
   "source": [
    "df1 = pd.DataFrame(data_frame, columns=['Name', 'Wage', 'Value'])\n",
    "df1"
   ]
  },
  {
   "cell_type": "code",
   "execution_count": null,
   "metadata": {},
   "outputs": [],
   "source": [
    "repl_dict = {\n",
    "    '[kK]': '*1e3',\n",
    "    '[mM]': '*1e6',\n",
    "    '[bB]': '*1e9',\n",
    "    '[\\€,]': ''\n",
    "}\n",
    "\n",
    "df1['Value'] = df1['Value'].replace(repl_dict, regex = True).map(pd.eval)\n",
    "df1['Wage'] = df1['Wage'].replace(repl_dict, regex = True).map(pd.eval)\n",
    "\n",
    "df1['difference'] = df1['Value'] - df1['Wage']\n",
    "df1.sort_values('difference', ascending=False)"
   ]
  },
  {
   "cell_type": "code",
   "execution_count": null,
   "metadata": {},
   "outputs": [],
   "source": [
    "sns.set()\n",
    "graph = sns.scatterplot(x='Wage', y='Value', data = df1)"
   ]
  },
  {
   "cell_type": "code",
   "execution_count": null,
   "metadata": {},
   "outputs": [],
   "source": [
    "TOOLTIP = HoverTool(tooltips=[\n",
    "    ('index','$index'),\n",
    "    ('Wage ,Value', '(@Wage, @Value)'),\n",
    "    ('Name', '@Name')\n",
    "])\n",
    "\n",
    "p = figure(title = \"FIFA 2019\", x_axis_label = 'Wage', y_axis_label = 'Value', plot_width = 1400, plot_height = 1400, tools=[TOOLTIP])\n",
    "p.circle('Wage' , 'Value', size=25, source = df1)\n",
    "show(p)"
   ]
  },
  {
   "cell_type": "code",
   "execution_count": null,
   "metadata": {},
   "outputs": [],
   "source": []
  }
 ],
 "metadata": {
  "interpreter": {
   "hash": "5fe029e5d5a08434ba5460af4f1244e2c53add5514e513dfa57a5518d4b63007"
  },
  "kernelspec": {
   "display_name": "Python 3.10.0 64-bit ('ml': venv)",
   "language": "python",
   "name": "python3"
  },
  "language_info": {
   "codemirror_mode": {
    "name": "ipython",
    "version": 3
   },
   "file_extension": ".py",
   "mimetype": "text/x-python",
   "name": "python",
   "nbconvert_exporter": "python",
   "pygments_lexer": "ipython3",
   "version": "3.10.0"
  },
  "orig_nbformat": 4
 },
 "nbformat": 4,
 "nbformat_minor": 2
}
